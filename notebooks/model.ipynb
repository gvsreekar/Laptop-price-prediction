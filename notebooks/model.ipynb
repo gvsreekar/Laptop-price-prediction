{
 "cells": [
  {
   "cell_type": "markdown",
   "metadata": {},
   "source": [
    "## Library set up"
   ]
  },
  {
   "cell_type": "code",
   "execution_count": 3,
   "metadata": {},
   "outputs": [],
   "source": [
    "# Scientific libraries\n",
    "import numpy as np\n",
    "import pandas as pd \n",
    "\n",
    "# Visual libraries\n",
    "import matplotlib.pyplot as plt\n",
    "import seaborn as sns\n",
    "\n",
    "# Logging\n",
    "import logging\n",
    "\n",
    "# Progress bar\n",
    "from tqdm.notebook import tqdm, trange \n",
    "import warnings\n",
    "warnings.filterwarnings('ignore')\n",
    "\n",
    "# Visual setup\n",
    "# sets the figure format to 'retina' for high-resolution displays\n",
    "%config InlineBackend.figure_format = 'retina'\n",
    "\n",
    "# Pandas options for displaying all interactions\n",
    "from IPython.core.interactiveshell import InteractiveShell\n",
    "InteractiveShell.ast_node_interactivity = 'all' \n",
    "\n",
    "# Table styles\n",
    "table_styles = {\n",
    "    'cerulean_palette': [\n",
    "        dict(selector=\"th\", props=[(\"color\", \"#FFFFFF\"), (\"background\", \"#004D80\")]),\n",
    "        dict(selector=\"td\", props=[(\"color\", \"#333333\")]),\n",
    "        dict(selector=\"table\", props=[(\"font-family\", 'Arial'), (\"border-collapse\", \"collapse\")]),\n",
    "        dict(selector='tr:nth-child(even)', props=[('background', '#D3EEFF')]),\n",
    "        dict(selector='tr:nth-child(odd)', props=[('background', '#FFFFFF')]),\n",
    "        dict(selector=\"th\", props=[(\"border\", \"1px solid #0070BA\")]),\n",
    "        dict(selector=\"td\", props=[(\"border\", \"1px solid #0070BA\")]),\n",
    "        dict(selector=\"tr:hover\", props=[(\"background\", \"#80D0FF\")]),\n",
    "        dict(selector=\"tr\", props=[(\"transition\", \"background 0.5s ease\")]),\n",
    "        dict(selector=\"th:hover\", props=[(\"font-size\", \"1.07rem\")]),\n",
    "        dict(selector=\"th\", props=[(\"transition\", \"font-size 0.5s ease-in-out\")]),\n",
    "        dict(selector=\"td:hover\", props=[('font-size', '1.07rem'),('font-weight', 'bold')]),\n",
    "        dict(selector=\"td\", props=[(\"transition\", \"font-size 0.5s ease-in-out\")])\n",
    "    ]\n",
    "}\n",
    "\n",
    "# Seed value for numpy.random => makes notebooks stable across runs\n",
    "np.random.seed(42)"
   ]
  },
  {
   "cell_type": "code",
   "execution_count": null,
   "metadata": {},
   "outputs": [],
   "source": []
  }
 ],
 "metadata": {
  "kernelspec": {
   "display_name": "price-prediction-hd7nnaqT-py3.11",
   "language": "python",
   "name": "python3"
  },
  "language_info": {
   "codemirror_mode": {
    "name": "ipython",
    "version": 3
   },
   "file_extension": ".py",
   "mimetype": "text/x-python",
   "name": "python",
   "nbconvert_exporter": "python",
   "pygments_lexer": "ipython3",
   "version": "3.11.5"
  }
 },
 "nbformat": 4,
 "nbformat_minor": 2
}
